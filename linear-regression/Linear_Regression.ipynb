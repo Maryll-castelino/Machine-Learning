{
  "cells": [
    {
      "cell_type": "code",
      "execution_count": 1,
      "metadata": {
        "id": "Mlw703RSnKTs"
      },
      "outputs": [],
      "source": [
        "# Importing Libraries\n",
        "import pandas as pd\n",
        "import numpy as np\n",
        "import sklearn\n",
        "from sklearn import linear_model\n",
        "from sklearn.utils import shuffle"
      ]
    },
    {
      "cell_type": "code",
      "execution_count": 3,
      "metadata": {
        "colab": {
          "base_uri": "https://localhost:8080/",
          "height": 270
        },
        "id": "7uJ06fU9n0fk",
        "outputId": "4e736ad6-7ad5-4af7-c6ed-6d007fdf59fe"
      },
      "outputs": [
        {
          "data": {
            "text/html": [
              "<div>\n",
              "<style scoped>\n",
              "    .dataframe tbody tr th:only-of-type {\n",
              "        vertical-align: middle;\n",
              "    }\n",
              "\n",
              "    .dataframe tbody tr th {\n",
              "        vertical-align: top;\n",
              "    }\n",
              "\n",
              "    .dataframe thead th {\n",
              "        text-align: right;\n",
              "    }\n",
              "</style>\n",
              "<table border=\"1\" class=\"dataframe\">\n",
              "  <thead>\n",
              "    <tr style=\"text-align: right;\">\n",
              "      <th></th>\n",
              "      <th>school</th>\n",
              "      <th>sex</th>\n",
              "      <th>age</th>\n",
              "      <th>address</th>\n",
              "      <th>famsize</th>\n",
              "      <th>Pstatus</th>\n",
              "      <th>Medu</th>\n",
              "      <th>Fedu</th>\n",
              "      <th>Mjob</th>\n",
              "      <th>Fjob</th>\n",
              "      <th>...</th>\n",
              "      <th>famrel</th>\n",
              "      <th>freetime</th>\n",
              "      <th>goout</th>\n",
              "      <th>Dalc</th>\n",
              "      <th>Walc</th>\n",
              "      <th>health</th>\n",
              "      <th>absences</th>\n",
              "      <th>G1</th>\n",
              "      <th>G2</th>\n",
              "      <th>G3</th>\n",
              "    </tr>\n",
              "  </thead>\n",
              "  <tbody>\n",
              "    <tr>\n",
              "      <th>0</th>\n",
              "      <td>GP</td>\n",
              "      <td>F</td>\n",
              "      <td>18</td>\n",
              "      <td>U</td>\n",
              "      <td>GT3</td>\n",
              "      <td>A</td>\n",
              "      <td>4</td>\n",
              "      <td>4</td>\n",
              "      <td>at_home</td>\n",
              "      <td>teacher</td>\n",
              "      <td>...</td>\n",
              "      <td>4</td>\n",
              "      <td>3</td>\n",
              "      <td>4</td>\n",
              "      <td>1</td>\n",
              "      <td>1</td>\n",
              "      <td>3</td>\n",
              "      <td>6</td>\n",
              "      <td>5</td>\n",
              "      <td>6</td>\n",
              "      <td>6</td>\n",
              "    </tr>\n",
              "    <tr>\n",
              "      <th>1</th>\n",
              "      <td>GP</td>\n",
              "      <td>F</td>\n",
              "      <td>17</td>\n",
              "      <td>U</td>\n",
              "      <td>GT3</td>\n",
              "      <td>T</td>\n",
              "      <td>1</td>\n",
              "      <td>1</td>\n",
              "      <td>at_home</td>\n",
              "      <td>other</td>\n",
              "      <td>...</td>\n",
              "      <td>5</td>\n",
              "      <td>3</td>\n",
              "      <td>3</td>\n",
              "      <td>1</td>\n",
              "      <td>1</td>\n",
              "      <td>3</td>\n",
              "      <td>4</td>\n",
              "      <td>5</td>\n",
              "      <td>5</td>\n",
              "      <td>6</td>\n",
              "    </tr>\n",
              "    <tr>\n",
              "      <th>2</th>\n",
              "      <td>GP</td>\n",
              "      <td>F</td>\n",
              "      <td>15</td>\n",
              "      <td>U</td>\n",
              "      <td>LE3</td>\n",
              "      <td>T</td>\n",
              "      <td>1</td>\n",
              "      <td>1</td>\n",
              "      <td>at_home</td>\n",
              "      <td>other</td>\n",
              "      <td>...</td>\n",
              "      <td>4</td>\n",
              "      <td>3</td>\n",
              "      <td>2</td>\n",
              "      <td>2</td>\n",
              "      <td>3</td>\n",
              "      <td>3</td>\n",
              "      <td>10</td>\n",
              "      <td>7</td>\n",
              "      <td>8</td>\n",
              "      <td>10</td>\n",
              "    </tr>\n",
              "    <tr>\n",
              "      <th>3</th>\n",
              "      <td>GP</td>\n",
              "      <td>F</td>\n",
              "      <td>15</td>\n",
              "      <td>U</td>\n",
              "      <td>GT3</td>\n",
              "      <td>T</td>\n",
              "      <td>4</td>\n",
              "      <td>2</td>\n",
              "      <td>health</td>\n",
              "      <td>services</td>\n",
              "      <td>...</td>\n",
              "      <td>3</td>\n",
              "      <td>2</td>\n",
              "      <td>2</td>\n",
              "      <td>1</td>\n",
              "      <td>1</td>\n",
              "      <td>5</td>\n",
              "      <td>2</td>\n",
              "      <td>15</td>\n",
              "      <td>14</td>\n",
              "      <td>15</td>\n",
              "    </tr>\n",
              "    <tr>\n",
              "      <th>4</th>\n",
              "      <td>GP</td>\n",
              "      <td>F</td>\n",
              "      <td>16</td>\n",
              "      <td>U</td>\n",
              "      <td>GT3</td>\n",
              "      <td>T</td>\n",
              "      <td>3</td>\n",
              "      <td>3</td>\n",
              "      <td>other</td>\n",
              "      <td>other</td>\n",
              "      <td>...</td>\n",
              "      <td>4</td>\n",
              "      <td>3</td>\n",
              "      <td>2</td>\n",
              "      <td>1</td>\n",
              "      <td>2</td>\n",
              "      <td>5</td>\n",
              "      <td>4</td>\n",
              "      <td>6</td>\n",
              "      <td>10</td>\n",
              "      <td>10</td>\n",
              "    </tr>\n",
              "  </tbody>\n",
              "</table>\n",
              "<p>5 rows × 33 columns</p>\n",
              "</div>"
            ],
            "text/plain": [
              "  school sex  age address famsize Pstatus  Medu  Fedu     Mjob      Fjob  ...  \\\n",
              "0     GP   F   18       U     GT3       A     4     4  at_home   teacher  ...   \n",
              "1     GP   F   17       U     GT3       T     1     1  at_home     other  ...   \n",
              "2     GP   F   15       U     LE3       T     1     1  at_home     other  ...   \n",
              "3     GP   F   15       U     GT3       T     4     2   health  services  ...   \n",
              "4     GP   F   16       U     GT3       T     3     3    other     other  ...   \n",
              "\n",
              "  famrel freetime  goout  Dalc  Walc health absences  G1  G2  G3  \n",
              "0      4        3      4     1     1      3        6   5   6   6  \n",
              "1      5        3      3     1     1      3        4   5   5   6  \n",
              "2      4        3      2     2     3      3       10   7   8  10  \n",
              "3      3        2      2     1     1      5        2  15  14  15  \n",
              "4      4        3      2     1     2      5        4   6  10  10  \n",
              "\n",
              "[5 rows x 33 columns]"
            ]
          },
          "execution_count": 3,
          "metadata": {},
          "output_type": "execute_result"
        }
      ],
      "source": [
        "# Loading CSV data\n",
        "data = pd.read_csv(\"student-mat.csv\", sep=\";\")\n",
        "data.head()"
      ]
    },
    {
      "cell_type": "code",
      "execution_count": 4,
      "metadata": {
        "colab": {
          "base_uri": "https://localhost:8080/",
          "height": 206
        },
        "id": "jzy3lNCrn886",
        "outputId": "8450388c-1755-4a05-94ce-33c28cb6e2a1"
      },
      "outputs": [
        {
          "data": {
            "text/html": [
              "<div>\n",
              "<style scoped>\n",
              "    .dataframe tbody tr th:only-of-type {\n",
              "        vertical-align: middle;\n",
              "    }\n",
              "\n",
              "    .dataframe tbody tr th {\n",
              "        vertical-align: top;\n",
              "    }\n",
              "\n",
              "    .dataframe thead th {\n",
              "        text-align: right;\n",
              "    }\n",
              "</style>\n",
              "<table border=\"1\" class=\"dataframe\">\n",
              "  <thead>\n",
              "    <tr style=\"text-align: right;\">\n",
              "      <th></th>\n",
              "      <th>G1</th>\n",
              "      <th>G2</th>\n",
              "      <th>G3</th>\n",
              "      <th>studytime</th>\n",
              "      <th>absences</th>\n",
              "      <th>failures</th>\n",
              "    </tr>\n",
              "  </thead>\n",
              "  <tbody>\n",
              "    <tr>\n",
              "      <th>0</th>\n",
              "      <td>5</td>\n",
              "      <td>6</td>\n",
              "      <td>6</td>\n",
              "      <td>2</td>\n",
              "      <td>6</td>\n",
              "      <td>0</td>\n",
              "    </tr>\n",
              "    <tr>\n",
              "      <th>1</th>\n",
              "      <td>5</td>\n",
              "      <td>5</td>\n",
              "      <td>6</td>\n",
              "      <td>2</td>\n",
              "      <td>4</td>\n",
              "      <td>0</td>\n",
              "    </tr>\n",
              "    <tr>\n",
              "      <th>2</th>\n",
              "      <td>7</td>\n",
              "      <td>8</td>\n",
              "      <td>10</td>\n",
              "      <td>2</td>\n",
              "      <td>10</td>\n",
              "      <td>3</td>\n",
              "    </tr>\n",
              "    <tr>\n",
              "      <th>3</th>\n",
              "      <td>15</td>\n",
              "      <td>14</td>\n",
              "      <td>15</td>\n",
              "      <td>3</td>\n",
              "      <td>2</td>\n",
              "      <td>0</td>\n",
              "    </tr>\n",
              "    <tr>\n",
              "      <th>4</th>\n",
              "      <td>6</td>\n",
              "      <td>10</td>\n",
              "      <td>10</td>\n",
              "      <td>2</td>\n",
              "      <td>4</td>\n",
              "      <td>0</td>\n",
              "    </tr>\n",
              "  </tbody>\n",
              "</table>\n",
              "</div>"
            ],
            "text/plain": [
              "   G1  G2  G3  studytime  absences  failures\n",
              "0   5   6   6          2         6         0\n",
              "1   5   5   6          2         4         0\n",
              "2   7   8  10          2        10         3\n",
              "3  15  14  15          3         2         0\n",
              "4   6  10  10          2         4         0"
            ]
          },
          "execution_count": 4,
          "metadata": {},
          "output_type": "execute_result"
        }
      ],
      "source": [
        "# Removing unwanted attributes\n",
        "data = data[[\"G1\", \"G2\", \"G3\", \"studytime\", \"absences\", \"failures\"]]\n",
        "data.head()"
      ]
    },
    {
      "cell_type": "code",
      "execution_count": 5,
      "metadata": {
        "colab": {
          "base_uri": "https://localhost:8080/"
        },
        "id": "s43CD_yZodcX",
        "outputId": "9bce42c3-853d-4d60-b1e2-5532467ca9df"
      },
      "outputs": [
        {
          "name": "stderr",
          "output_type": "stream",
          "text": [
            "/tmp/ipykernel_14473/2328795380.py:4: FutureWarning: In a future version of pandas all arguments of DataFrame.drop except for the argument 'labels' will be keyword-only\n",
            "  x = np.array(data.drop([predict], 1))\n"
          ]
        }
      ],
      "source": [
        "# splitting data into x and y\n",
        "predict = \"G3\"\n",
        "\n",
        "x = np.array(data.drop([predict], 1))\n",
        "y = np.array(data[predict])"
      ]
    },
    {
      "cell_type": "code",
      "execution_count": 6,
      "metadata": {
        "id": "TkhWTh5Ho99H"
      },
      "outputs": [
        {
          "name": "stdout",
          "output_type": "stream",
          "text": [
            "<class 'numpy.ndarray'>\n"
          ]
        }
      ],
      "source": [
        "# Splitting dataset into train and test\n",
        "x_train, x_test, y_train, y_test = sklearn.model_selection.train_test_split(x,y,test_size=0.1)\n",
        "print(type(x_train))"
      ]
    },
    {
      "cell_type": "code",
      "execution_count": 8,
      "metadata": {
        "id": "TxOlJkpkpjDi"
      },
      "outputs": [],
      "source": [
        "# Creating a linear regression model\n",
        "linear = linear_model.LinearRegression()"
      ]
    },
    {
      "cell_type": "code",
      "execution_count": 9,
      "metadata": {
        "colab": {
          "base_uri": "https://localhost:8080/"
        },
        "id": "LMJHgjj1po4y",
        "outputId": "8b2fc229-1ee2-4078-c557-5a504f7863fa"
      },
      "outputs": [
        {
          "data": {
            "text/plain": [
              "LinearRegression()"
            ]
          },
          "execution_count": 9,
          "metadata": {},
          "output_type": "execute_result"
        }
      ],
      "source": [
        "# Training the model to fit our training dataset\n",
        "linear.fit(x_train, y_train)"
      ]
    },
    {
      "cell_type": "code",
      "execution_count": 10,
      "metadata": {
        "colab": {
          "base_uri": "https://localhost:8080/"
        },
        "id": "bxcWPrV8pvRW",
        "outputId": "e69cec2f-d447-411b-cf4d-0204f9058707"
      },
      "outputs": [
        {
          "data": {
            "text/plain": [
              "0.7738655400427893"
            ]
          },
          "execution_count": 10,
          "metadata": {},
          "output_type": "execute_result"
        }
      ],
      "source": [
        "# Checking the accuracy of the trained model on the test dataset\n",
        "linear.score(x_test, y_test)"
      ]
    },
    {
      "cell_type": "code",
      "execution_count": 11,
      "metadata": {
        "colab": {
          "base_uri": "https://localhost:8080/"
        },
        "id": "pMajEtClp9k6",
        "outputId": "2ba803f5-4767-4418-ee18-2b54ce12bd4a"
      },
      "outputs": [
        {
          "name": "stdout",
          "output_type": "stream",
          "text": [
            "Coefficients :  [ 0.15072622  0.97109016 -0.24076684  0.03436457 -0.42115113]\n",
            "Intercept :  -1.2177475382455683\n"
          ]
        }
      ],
      "source": [
        "# Printing the coeffecients and intercept of the linear regression model\n",
        "print(\"Coefficients : \" , linear.coef_)\n",
        "print(\"Intercept : \", linear.intercept_)"
      ]
    },
    {
      "cell_type": "code",
      "execution_count": 12,
      "metadata": {
        "colab": {
          "base_uri": "https://localhost:8080/"
        },
        "id": "JIBGFGiOqYR5",
        "outputId": "307f6edb-f204-405a-d8ef-a6b373a5ab43"
      },
      "outputs": [
        {
          "name": "stdout",
          "output_type": "stream",
          "text": [
            "13.211263594700624\t[15 14  3  4  2]\t15\n",
            "12.553524346842142\t[14 13  4  0  0]\t14\n",
            "14.096188820917796\t[13 14  1  0  0]\t13\n",
            "6.721026157665477\t[ 9  7  2 20  1]\t8\n",
            "11.852556045443304\t[11 12  1  0  0]\t10\n",
            "10.558701947837664\t[10 11  2  2  0]\t11\n",
            "6.875304276421863\t[ 7  7  1 14  0]\t5\n",
            "6.204715942473926\t[ 7  8  2 10  3]\t10\n",
            "12.746140756798614\t[11 13  1 10  1]\t13\n",
            "9.171061210539621\t[11  9  1 19  1]\t10\n",
            "8.844020511646285\t[9 9 1 6 0]\t10\n",
            "12.540256392740012\t[13 13  4  4  0]\t12\n",
            "14.00092377765102\t[11 14  1  6  0]\t14\n",
            "13.820842536243523\t[13 14  3  6  0]\t14\n",
            "11.973927252490139\t[15 12  3  0  0]\t14\n",
            "11.793542969953693\t[15 12  2  0  1]\t12\n",
            "12.24361937017718\t[12 12  2 14  0]\t12\n",
            "4.197985204931037\t[6 5 2 4 0]\t6\n",
            "12.58381910650313\t[15 13  3 14  2]\t13\n",
            "18.940368001281495\t[18 18  1  6  0]\t18\n",
            "13.855421975986882\t[13 14  2  0  0]\t15\n",
            "15.807642151461572\t[17 15  1  4  0]\t16\n",
            "7.004824970550381\t[9 8 2 0 1]\t0\n",
            "13.704480879547617\t[12 14  3  7  0]\t14\n",
            "18.712869110452715\t[19 18  2  2  0]\t18\n",
            "6.6094769657341335\t[9 8 1 6 3]\t10\n",
            "10.017746185814698\t[12 10  2 18  1]\t10\n",
            "6.3643274004628605\t[8 7 1 7 1]\t8\n",
            "13.94546259669063\t[12 14  1  0  0]\t15\n",
            "5.001959040006802\t[7 6 1 0 1]\t0\n",
            "14.294332694566249\t[15 14  2  4  0]\t14\n",
            "8.232748294316906\t[ 7 10  4  2  1]\t10\n",
            "7.769621773330327\t[ 9  8  2 10  0]\t8\n",
            "13.674716865695753\t[13 13  2 23  0]\t13\n",
            "14.225603559503732\t[15 14  2  2  0]\t14\n",
            "15.656701055022307\t[16 15  2 11  0]\t15\n",
            "11.053073847377416\t[11 11  2 12  0]\t11\n",
            "5.1003462333786\t[6 6 2 2 0]\t6\n",
            "5.315622868128494\t[8 7 2 8 3]\t8\n",
            "11.169435504073324\t[12 11  2 11  0]\t11\n"
          ]
        }
      ],
      "source": [
        "# Storing the prediction on test dataset\n",
        "predictions = linear.predict(x_test)\n",
        "\n",
        "# printing the predictions, input attributes (x) and y\n",
        "for x in range(len(predictions)):\n",
        "  print(predictions[x], x_test[x], y_test[x], sep=\"\\t\")"
      ]
    }
  ],
  "metadata": {
    "colab": {
      "name": "Linear Regression.ipynb",
      "provenance": []
    },
    "kernelspec": {
      "display_name": "Python 3",
      "name": "python3"
    },
    "language_info": {
      "codemirror_mode": {
        "name": "ipython",
        "version": 3
      },
      "file_extension": ".py",
      "mimetype": "text/x-python",
      "name": "python",
      "nbconvert_exporter": "python",
      "pygments_lexer": "ipython3",
      "version": "3.10.0"
    }
  },
  "nbformat": 4,
  "nbformat_minor": 0
}
